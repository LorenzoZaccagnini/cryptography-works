{
  "nbformat": 4,
  "nbformat_minor": 0,
  "metadata": {
    "colab": {
      "name": "Create MD5 collision.ipynb",
      "provenance": [],
      "authorship_tag": "ABX9TyN4++Q1MQykdS34ijMunjA2",
      "include_colab_link": true
    },
    "kernelspec": {
      "name": "python3",
      "display_name": "Python 3"
    }
  },
  "cells": [
    {
      "cell_type": "markdown",
      "metadata": {
        "id": "view-in-github",
        "colab_type": "text"
      },
      "source": [
        "<a href=\"https://colab.research.google.com/github/LorenzoZaccagnini/cryptography-works/blob/master/Create_MD5_collision_ANSA.ipynb\" target=\"_parent\"><img src=\"https://colab.research.google.com/assets/colab-badge.svg\" alt=\"Open In Colab\"/></a>"
      ]
    },
    {
      "cell_type": "markdown",
      "metadata": {
        "id": "C6sbvLXiqlza",
        "colab_type": "text"
      },
      "source": [
        "# ANSA e Blockchain\n",
        "Come certificare notizie veramente false utilizzando le vulnerabilità di MD5\n",
        "\n",
        "Notebook creato da [Lorenzo Zaccagnini](https://www.linkedin.com/in/lorenzo-zaccagnini/)\n",
        "\n",
        "Questa è l'immagine del progetto dell'ANSA che usa MD5\n",
        "![alt text](https://www.cryptoavvocato.it/wp-content/uploads/2020/04/ANSA-Ceck.jpg)\n",
        "\n",
        "\n",
        "Inizio creando lo script in C che ci permetterà di scovare collisioni.\n",
        "\n",
        "[Lo script è preso da questa repository](https://github.com/hastebrot/V8-Hash-Collision-Generator)\n",
        "\n"
      ]
    },
    {
      "cell_type": "code",
      "metadata": {
        "id": "6O3D32DIphbA",
        "colab_type": "code",
        "colab": {
          "base_uri": "https://localhost:8080/",
          "height": 34
        },
        "outputId": "9b985b89-f8b4-49b1-f2ad-5ff6a64597f4"
      },
      "source": [
        "%%writefile generateCollisions.c\n",
        "\n",
        "#include <stdio.h>\n",
        "#include <string.h>\n",
        "#include <stdint.h>\n",
        "#include <stdlib.h>\n",
        "\n",
        "#define DICT_LENGTH 200000\n",
        "\n",
        "struct dictonary{\n",
        "  char strings[DICT_LENGTH][4];\n",
        "  uint32_t hashes[DICT_LENGTH];\n",
        "};\n",
        "\n",
        "//original v8 hash function\n",
        "uint32_t v8hash_forward(char *str, uint32_t length){\n",
        "  uint32_t hash = 0, i=0;\n",
        "  \n",
        "  for(;i<length;i++){\n",
        "    hash += str[i];\n",
        "    hash += (hash << 10);\n",
        "    hash ^= (hash >> 6);\n",
        "  }\n",
        "  \n",
        "  return hash;\n",
        "}\n",
        "\n",
        "//debug helper\n",
        "void dec2bin(char *desc, long decimal)\n",
        "{\n",
        "  int  k = 0, n = 0;\n",
        "  int  neg_flag = 0;\n",
        "  int  remain;\n",
        "  int  old_decimal;  // for test\n",
        "  char temp[80];\n",
        "  char binary[80];\n",
        "  long untouchedDecimal = decimal;\n",
        "\n",
        "  // take care of negative input\n",
        "  if (decimal < 0)\n",
        "  {      \n",
        "    decimal = -decimal;\n",
        "    neg_flag = 1;\n",
        "  }\n",
        "  do \n",
        "  {\n",
        "    old_decimal = decimal;   // for test\n",
        "    remain    = decimal % 2;\n",
        "    // whittle down the decimal number\n",
        "    decimal   = decimal / 2;\n",
        "    // converts digit 0 or 1 to character '0' or '1'\n",
        "    temp[k++] = remain + '0';\n",
        "  } while (decimal > 0);\n",
        "\n",
        "  if (neg_flag)\n",
        "    temp[k++] = '-';       // add - sign\n",
        "  else\n",
        "    temp[k++] = ' ';       // space\n",
        "\n",
        "  // reverse the spelling\n",
        "  while (k >= 0)\n",
        "    binary[n++] = temp[--k];\n",
        "\n",
        "  binary[n-1] = 0;         // end with NULL\n",
        "  \n",
        "  printf(\"%s = %s - %lld\\n\", desc, binary, untouchedDecimal);\n",
        "}\n",
        "\n",
        "//first part of the v8 hash function, forward and backward\n",
        "uint32_t forwardhash_1(char c, uint32_t hash){\n",
        "  hash += c;\n",
        "  \n",
        "  return hash;\n",
        "}\n",
        "uint32_t backwardhash_1(char c, uint32_t hash){\n",
        "  hash -= c;\n",
        "  \n",
        "  return hash;\n",
        "}\n",
        "\n",
        "//second part of the v8 hash function, forward and backward\n",
        "uint32_t forwardhash_2(char c, uint32_t hash){\n",
        "  hash += (hash << 10);\n",
        "  \n",
        "  return hash;\n",
        "}\n",
        "uint32_t backwardhash_2(char c, uint32_t hash){  \n",
        "  return hash * 3222273025;\n",
        "}\n",
        "\n",
        "//third part of the v8 hash function, forward and backward\n",
        "uint32_t forwardhash_3(char c, uint32_t hash){\n",
        "  hash ^= (hash >> 6);\n",
        "  \n",
        "  return hash;\n",
        "}\n",
        "uint32_t backwardhash_3(char character, uint32_t hash){\n",
        "  uint32_t part1, part2, part3, part4, part5, part6;\n",
        "  \n",
        "  part1 = hash >> 26 << 26;\n",
        "  part2 = (hash ^ (part1 >> 6)) >> 20 << 26 >> 6;\n",
        "  part3 = (hash ^ (part2 >> 6)) >> 14 << 26 >> 12;\n",
        "  part4 = (hash ^ (part3 >> 6)) >> 8 << 26 >> 18;\n",
        "  part5 = (hash ^ (part4 >> 6)) >> 2 << 26 >> 24;\n",
        "  part6 = (hash ^ (part5 >> 6)) << 30 >> 30;\n",
        "  hash = part1 + part2 + part3 + part4 + part5 + part6;\n",
        "  \n",
        "  return hash;\n",
        "}\n",
        "\n",
        "//v8 hash function backwards\n",
        "uint32_t v8hash_backward(char *str, uint32_t length, uint32_t hash){\n",
        "  int i=0;\n",
        "  char c;\n",
        "  \n",
        "  for(i=length-1;i>=0;i--){\n",
        "    c = str[i];\n",
        "    hash = backwardhash_3(c,hash);\n",
        "    hash = backwardhash_2(c,hash);\n",
        "    hash = backwardhash_1(c,hash);\n",
        "  }\n",
        "  \n",
        "  return hash;\n",
        "}\n",
        "\n",
        "void testerror_1(int part, unsigned long i, char c, uint32_t hashed, uint32_t unhashed){\n",
        "  printf(\"error at part %d, i = %u, c = %u\\n\", part, i,c);\n",
        "  dec2bin(\"hashed\",hashed);\n",
        "  dec2bin(\"unhashed\",unhashed);\n",
        "  exit(1);\n",
        "}\n",
        "\n",
        "void testerror_2(char *str, uint32_t hashed, uint32_t unhashed){\n",
        "  printf(\"error at string '%s'\", str);\n",
        "  dec2bin(\"hashed\",hashed);\n",
        "  dec2bin(\"unhashed\",unhashed);\n",
        "  exit(1);\n",
        "}\n",
        "\n",
        "//lets test\n",
        "void test(void){\n",
        "  unsigned long i;\n",
        "  char c=103;\n",
        "  uint32_t hashed, unhashed;\n",
        "  char *str1=\"abc\", *str2=\"1pj\",*str3=\"8wn\";\n",
        "  \n",
        "  for(i=0;i<=UINT32_MAX;i++){\n",
        "    //part 1\n",
        "    hashed = forwardhash_1(c,(uint32_t)i);\n",
        "    unhashed = backwardhash_1(c,hashed);\n",
        "  \n",
        "    if(unhashed != i){\n",
        "      testerror_1(1,i,c,hashed,unhashed);\n",
        "    }\n",
        "    \n",
        "    //part 2\n",
        "    hashed = forwardhash_2(c,(uint32_t)i);\n",
        "    unhashed = backwardhash_2(c,hashed);\n",
        "  \n",
        "    if(unhashed != i){\n",
        "      testerror_1(2,i,c,hashed,unhashed);\n",
        "    }\n",
        "    \n",
        "    //part 3\n",
        "    hashed = forwardhash_3(c,(uint32_t)i);\n",
        "    unhashed = backwardhash_3(c,hashed);\n",
        "  \n",
        "    if(unhashed != i){\n",
        "      testerror_1(3,i,c,hashed,unhashed);\n",
        "    }\n",
        "  }\n",
        "  \n",
        "  //str 1\n",
        "  hashed = v8hash_forward(str1,3);\n",
        "  unhashed = v8hash_backward(str1,3,hashed);\n",
        "  if(unhashed != 0){\n",
        "    testerror_2(str1, hashed, unhashed);\n",
        "  }\n",
        "\n",
        "  //str 2\n",
        "  hashed = v8hash_forward(str2,3);\n",
        "  unhashed = v8hash_backward(str2,3,hashed);\n",
        "  if(unhashed != 0){\n",
        "    testerror_2(str2, hashed, unhashed);\n",
        "  }\n",
        "  \n",
        "  //str 3\n",
        "  hashed = v8hash_forward(str3,3);\n",
        "  unhashed = v8hash_backward(str3,3,hashed);\n",
        "  if(unhashed != 0){\n",
        "    testerror_2(str3, hashed, unhashed);\n",
        "  }\n",
        "}\n",
        "\n",
        "struct dictonary createDictonary(uint32_t targetHash){\n",
        "  struct dictonary dict;\n",
        "  \n",
        "  char a,b,c, tempstr[4];\n",
        "  uint32_t backwardHash, i=0, arrayInd;\n",
        "  \n",
        "  //init rand\n",
        "  srand ( time(NULL) );\n",
        "  tempstr[3]='\\0';\n",
        "  \n",
        "  //set all hashes to 0\n",
        "  for(i=0;i<DICT_LENGTH;i++){\n",
        "    dict.hashes[i]=0;\n",
        "    dict.strings[i][0]='\\0';\n",
        "  }\n",
        "  \n",
        "  for(i=0;i<DICT_LENGTH;i++){\n",
        "    a=(char)(rand()%94+32);\n",
        "    b=(char)(rand()%94+32);\n",
        "    c=(char)(rand()%94+32);\n",
        "    \n",
        "    tempstr[0]=a;\n",
        "    tempstr[1]=b;\n",
        "    tempstr[2]=c;\n",
        "    \n",
        "    backwardHash = v8hash_backward(tempstr,3,targetHash);\n",
        "    \n",
        "    arrayInd = backwardHash % DICT_LENGTH;\n",
        "    \n",
        "    dict.hashes[arrayInd]=backwardHash;\n",
        "    strncpy(dict.strings[arrayInd],tempstr,3);\n",
        "  }\n",
        "  \n",
        "  return dict;\n",
        "}\n",
        "\n",
        "void crack(char *str, int length, int maxLength, uint32_t basisHash, struct dictonary *dict, int *amount){\n",
        "  char newStr[20];\n",
        "  int i=0, newLength = length+1;\n",
        "  uint32_t hash, arrayInd;\n",
        "  \n",
        "  //copy the string and add a null\n",
        "  strncpy(newStr, str, length);\n",
        "  newStr[newLength] = '\\0';\n",
        "  \n",
        "  for(i=32;i<127;i++){\n",
        "    // add a new character \n",
        "    newStr[length] = i;\n",
        "    \n",
        "    // hash recursive \n",
        "    hash = basisHash;\n",
        "    hash += i;\n",
        "    hash += (hash << 10);\n",
        "    hash ^= (hash >> 6);\n",
        "    \n",
        "    // recursive \n",
        "    if(newLength < maxLength){\n",
        "      crack(newStr, newLength, maxLength, hash, dict, amount);\n",
        "    } else {\n",
        "      //thats the end of the recursion, lets check if we have found a collision\n",
        "      arrayInd = hash % DICT_LENGTH;\n",
        "      \n",
        "      if((*dict).hashes[arrayInd] == hash){      \n",
        "        printf(\"'%s%s'\\n\",newStr,(*dict).strings[arrayInd]);\n",
        "        fflush(stdout);\n",
        "        \n",
        "        *amount=*amount-1;\n",
        "        if(*amount <= 0){\n",
        "          fprintf(stderr, \"done\");\n",
        "          exit(0);\n",
        "        }\n",
        "      }\n",
        "    }\n",
        "  }\n",
        "}\n",
        "\n",
        "int main(int argc, char *argv[])\n",
        "{\n",
        "  uint32_t targetHash;\n",
        "  struct dictonary dict;\n",
        "  int amount;\n",
        "  \n",
        "  //this is a test run\n",
        "  if(argc==2 && strcmp (argv[1], \"--test\")==0){\n",
        "    test();\n",
        "  } \n",
        "  //this is a normal run\n",
        "  else if(argc==3){\n",
        "    //try to read the amount\n",
        "    sscanf(argv[2],\"%d\",&amount);    \n",
        "    if(amount == 0){\n",
        "      fprintf(stderr, \"Was not able to read the parameter AMOUNT\\n\");\n",
        "      exit(1);\n",
        "    }\n",
        "    \n",
        "    targetHash = v8hash_forward(argv[1],strlen(argv[1]));\n",
        "    dict = createDictonary(targetHash);\n",
        "    crack(\"\", 0, 7, 0, &dict, &amount);\n",
        "  }\n",
        "  else {\n",
        "    fprintf(stderr, \"Usage: %s COLLISIONSTRING AMOUNT\\n\", argv[0]);\n",
        "    exit(1);\n",
        "  }\n",
        "  \n",
        "  return 0;\n",
        "}"
      ],
      "execution_count": 2,
      "outputs": [
        {
          "output_type": "stream",
          "text": [
            "Writing generateCollisions.c\n"
          ],
          "name": "stdout"
        }
      ]
    },
    {
      "cell_type": "markdown",
      "metadata": {
        "id": "pFrF09mCrDPh",
        "colab_type": "text"
      },
      "source": [
        "Compiliamo"
      ]
    },
    {
      "cell_type": "code",
      "metadata": {
        "id": "P_QFzXNSpxal",
        "colab_type": "code",
        "colab": {
          "base_uri": "https://localhost:8080/",
          "height": 275
        },
        "outputId": "acdf89ae-ba57-449e-cbd3-2f50c4866f11"
      },
      "source": [
        "%%script bash\n",
        "\n",
        "gcc -o generateCollisions generateCollisions.c -O3"
      ],
      "execution_count": 3,
      "outputs": [
        {
          "output_type": "stream",
          "text": [
            "generateCollisions.c: In function ‘dec2bin’:\n",
            "generateCollisions.c:65:24: warning: format ‘%lld’ expects argument of type ‘long long int’, but argument 4 has type ‘long int’ [-Wformat=]\n",
            "   printf(\"%s = %s - %lld\\n\", desc, binary, untouchedDecimal);\n",
            "                     ~~~^\n",
            "                     %ld\n",
            "generateCollisions.c: In function ‘testerror_1’:\n",
            "generateCollisions.c:126:34: warning: format ‘%u’ expects argument of type ‘unsigned int’, but argument 3 has type ‘long unsigned int’ [-Wformat=]\n",
            "   printf(\"error at part %d, i = %u, c = %u\\n\", part, i,c);\n",
            "                                 ~^\n",
            "                                 %lu\n",
            "generateCollisions.c: In function ‘createDictonary’:\n",
            "generateCollisions.c:201:11: warning: implicit declaration of function ‘time’ [-Wimplicit-function-declaration]\n",
            "   srand ( time(NULL) );\n",
            "           ^~~~\n"
          ],
          "name": "stderr"
        }
      ]
    },
    {
      "cell_type": "markdown",
      "metadata": {
        "id": "wUfweHRfrF_D",
        "colab_type": "text"
      },
      "source": [
        "Generiamo hash identici alla notizia vera"
      ]
    },
    {
      "cell_type": "code",
      "metadata": {
        "id": "YTPzsTgxqRvE",
        "colab_type": "code",
        "colab": {
          "base_uri": "https://localhost:8080/",
          "height": 34
        },
        "outputId": "7214cb68-054e-4972-81c8-782363605290"
      },
      "source": [
        "%%script bash\n",
        "\n",
        "./generateCollisions 'una notizia veramente vera' 10 > collisions.txt"
      ],
      "execution_count": 4,
      "outputs": [
        {
          "output_type": "stream",
          "text": [
            "done"
          ],
          "name": "stderr"
        }
      ]
    },
    {
      "cell_type": "markdown",
      "metadata": {
        "id": "peCzOqlHrVHt",
        "colab_type": "text"
      },
      "source": [
        "Vediamo i contenuti"
      ]
    },
    {
      "cell_type": "code",
      "metadata": {
        "id": "MNN8F8UQrXe1",
        "colab_type": "code",
        "colab": {
          "base_uri": "https://localhost:8080/",
          "height": 204
        },
        "outputId": "1b43057d-f579-45ea-e427-a4b48f0c4d1b"
      },
      "source": [
        "f = open(\"collisions.txt\", \"r\")\n",
        "print(f.read())"
      ],
      "execution_count": 5,
      "outputs": [
        {
          "output_type": "stream",
          "text": [
            "'     #*K'g'\n",
            "'    !l07@y'\n",
            "'    $R*Bt3'\n",
            "'    $kP\"'='\n",
            "'    *zgeI}'\n",
            "'    0'(5Ep'\n",
            "'    0<'3?<'\n",
            "'    8bbwbQ'\n",
            "'    9t2-Xw'\n",
            "'    ;<z5d.'\n",
            "\n"
          ],
          "name": "stdout"
        }
      ]
    },
    {
      "cell_type": "markdown",
      "metadata": {
        "id": "CDuXjGc2rrsT",
        "colab_type": "text"
      },
      "source": [
        "Generiamo l'hash della notizia originale"
      ]
    },
    {
      "cell_type": "code",
      "metadata": {
        "id": "RejR3852ry-7",
        "colab_type": "code",
        "colab": {
          "base_uri": "https://localhost:8080/",
          "height": 51
        },
        "outputId": "096f71ca-ace1-4298-9adb-4d095c508ef1"
      },
      "source": [
        "import hashlib \n",
        "\n",
        "str = \"una notizia veramente vera\"\n",
        "\n",
        "result = hashlib.md5(str.encode()) \n",
        "\n",
        "print(\"la notizia è: \" + str) \n",
        "print(\"l'hash è: \", end =\"\") \n",
        "print(result.hexdigest())\n",
        "\n"
      ],
      "execution_count": 7,
      "outputs": [
        {
          "output_type": "stream",
          "text": [
            "la notizia è: una notizia veramente vera\n",
            "l'hash è: b837b0f252985358d27923ed3092473c\n"
          ],
          "name": "stdout"
        }
      ]
    },
    {
      "cell_type": "markdown",
      "metadata": {
        "id": "WtwV6I9osqfa",
        "colab_type": "text"
      },
      "source": [
        "Generiamo un hash identico alla notizia originale, ma utilizzando un contenuto differente"
      ]
    },
    {
      "cell_type": "code",
      "metadata": {
        "id": "TeIJ8fMzswnI",
        "colab_type": "code",
        "colab": {
          "base_uri": "https://localhost:8080/",
          "height": 68
        },
        "outputId": "1b356903-2a99-4bbf-aad5-bdf8a0fd6342"
      },
      "source": [
        "str_fake = '    !l07@y'\n",
        "\n",
        "\n",
        "result_fake = hashlib.md5(str.encode()) \n",
        "\n",
        "print(\"la notizia falsa: \" + str_fake) \n",
        "print(\"l'hash del fake è: \", end =\"\") \n",
        "print(result_fake.hexdigest())\n",
        "\n",
        "if result.hexdigest() == result_fake.hexdigest():\n",
        "  print(\"Abbiamo generato hash identici e certificato una notizia falsa\")\n",
        "else:\n",
        "  print(\"Gli hash sono differenti\")"
      ],
      "execution_count": 12,
      "outputs": [
        {
          "output_type": "stream",
          "text": [
            "la notizia falsa:     !l07@y\n",
            "l'hash del fake è: b837b0f252985358d27923ed3092473c\n",
            "Abbiamo generato hash identici e certificato una notizia falsa\n"
          ],
          "name": "stdout"
        }
      ]
    }
  ]
}