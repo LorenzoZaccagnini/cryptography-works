{
  "nbformat": 4,
  "nbformat_minor": 0,
  "metadata": {
    "colab": {
      "name": "Paillier PHE.ipynb",
      "provenance": [],
      "collapsed_sections": [],
      "authorship_tag": "ABX9TyPJpMTxVxD2Ipm8r+2YwN15",
      "include_colab_link": true
    },
    "kernelspec": {
      "name": "python3",
      "display_name": "Python 3"
    },
    "accelerator": "GPU"
  },
  "cells": [
    {
      "cell_type": "markdown",
      "metadata": {
        "id": "view-in-github",
        "colab_type": "text"
      },
      "source": [
        "<a href=\"https://colab.research.google.com/github/LorenzoZaccagnini/cryptography-works/blob/master/Paillier_PHE.ipynb\" target=\"_parent\"><img src=\"https://colab.research.google.com/assets/colab-badge.svg\" alt=\"Open In Colab\"/></a>"
      ]
    },
    {
      "cell_type": "markdown",
      "metadata": {
        "id": "m4KIslRT3oN1"
      },
      "source": [
        "Author: [Lorenzo Zaccagnini](https://www.linkedin.com/in/lorenzo-zaccagnini/)"
      ]
    },
    {
      "cell_type": "code",
      "metadata": {
        "id": "zmBaSD7GELbF",
        "colab": {
          "base_uri": "https://localhost:8080/",
          "height": 34
        },
        "outputId": "879802ef-6641-4a01-f8a3-515b31b07497"
      },
      "source": [
        "!pip install phe"
      ],
      "execution_count": null,
      "outputs": [
        {
          "output_type": "stream",
          "text": [
            "Requirement already satisfied: phe in /usr/local/lib/python3.6/dist-packages (1.4.0)\n"
          ],
          "name": "stdout"
        }
      ]
    },
    {
      "cell_type": "code",
      "metadata": {
        "id": "A4TVVm-IuG06"
      },
      "source": [
        "!apt install libmpc-dev\n",
        "!pip install gmpy2"
      ],
      "execution_count": null,
      "outputs": []
    },
    {
      "cell_type": "code",
      "metadata": {
        "id": "jZwBoUu6DooA"
      },
      "source": [
        "import gmpy2\n",
        "from phe import paillier\n",
        "import numpy as np"
      ],
      "execution_count": null,
      "outputs": []
    },
    {
      "cell_type": "markdown",
      "metadata": {
        "id": "-iE3eW3lt5uU"
      },
      "source": [
        "phe (python-paillier) is designed, developed and supported by [CSIRO's Data61](https://github.com/data61/python-paillier)"
      ]
    },
    {
      "cell_type": "markdown",
      "metadata": {
        "id": "7nPbTfph4uaw"
      },
      "source": [
        "# Paillier Partially Homomorphic Encryption\n",
        "Let's make an example: Italian farmers want to know what the average investment has been in blockchain or artificial intelligence projects in the agricultural sector in 2019.\n",
        "\n",
        "The farmers want to protect their privacy and not reveal their funding budgets and strategies, they want to keep this data private.\n",
        "\n",
        "In order to overcome this probleam, a startup similar to Devoleum decides to collect data using the Paillier crypto system, distributing public keys to farmers to encrypt the data.\n",
        "\n",
        "\n",
        "\n",
        "\n",
        "\n",
        "\n",
        "\n",
        "\n"
      ]
    },
    {
      "cell_type": "markdown",
      "metadata": {
        "id": "n9IAE5NMzdX7"
      },
      "source": [
        "### What is Paillier\n",
        "The Paillier crypto system, invented by and named after Pascal Paillier in 1999, is a probabilistic asymmetric algorithm for public key cryptography. The problem of computing n-th residue classes is believed to be computationally difficult. The decisional composite residuosity assumption is the intractability hypothesis upon which this cryptosystem is based.\n",
        "\n",
        "([source Wikipedia](https://en.wikipedia.org/wiki/Paillier_cryptosystem))"
      ]
    },
    {
      "cell_type": "markdown",
      "metadata": {
        "id": "kIsSMG0faDbU"
      },
      "source": [
        "### Create the public and private key"
      ]
    },
    {
      "cell_type": "code",
      "metadata": {
        "id": "uhbXfLEtaV9q",
        "colab": {
          "base_uri": "https://localhost:8080/",
          "height": 34
        },
        "outputId": "57a7e353-7488-4251-f95f-68e2861cb9aa"
      },
      "source": [
        "public_key, private_key = paillier.generate_paillier_keypair()\n",
        "\n",
        "keyring = paillier.PaillierPrivateKeyring()\n",
        "\n",
        "keyring.add(private_key)\n",
        "\n",
        "public_key"
      ],
      "execution_count": null,
      "outputs": [
        {
          "output_type": "execute_result",
          "data": {
            "text/plain": [
              "<PaillierPublicKey 73e09972b1>"
            ]
          },
          "metadata": {
            "tags": []
          },
          "execution_count": 10
        }
      ]
    },
    {
      "cell_type": "markdown",
      "metadata": {
        "id": "x8Er8uzjbCiM"
      },
      "source": [
        "### Generate the values\n",
        "Each farmer should encrypt the data with the public key before sending it to the central server.\n",
        "\n",
        "For this demonstration we simulate this behavior by generating 50 values, corresponding to 50 farmers who made an investment ranging from 10k to 100k euro"
      ]
    },
    {
      "cell_type": "code",
      "metadata": {
        "id": "nN5b86iyejRA",
        "colab": {
          "base_uri": "https://localhost:8080/",
          "height": 119
        },
        "outputId": "61cddaad-28a5-4255-d746-9de35e397229"
      },
      "source": [
        "investments = np.random.randint(10000,100000,50)\n",
        "investments"
      ],
      "execution_count": null,
      "outputs": [
        {
          "output_type": "execute_result",
          "data": {
            "text/plain": [
              "array([17976, 10711, 68975, 46701, 62517, 62500, 84081, 63204, 46077,\n",
              "       91172, 29904, 46636, 79465, 61031, 35088, 40136, 43412, 47965,\n",
              "       83885, 85818, 35729, 86288, 71476, 21837, 79413, 52223, 13103,\n",
              "       32605, 75423, 27494, 58346, 62186, 58681, 32476, 18300, 98260,\n",
              "       66468, 23769, 41763, 11574, 46901, 44937, 23077, 59873, 59474,\n",
              "       35211, 76404, 90757, 14127, 70316])"
            ]
          },
          "metadata": {
            "tags": []
          },
          "execution_count": 15
        }
      ]
    },
    {
      "cell_type": "markdown",
      "metadata": {
        "id": "Snvu9_JEfw15"
      },
      "source": [
        "Let's test the mean of non encrypted values, later we will se if it matches"
      ]
    },
    {
      "cell_type": "code",
      "metadata": {
        "id": "TWf1W3Uhfznm",
        "colab": {
          "base_uri": "https://localhost:8080/",
          "height": 34
        },
        "outputId": "1784a9f0-5287-4182-fc80-afdedf8d25bf"
      },
      "source": [
        "clear_avg = np.mean(investments)\n",
        "\n",
        "print(\"the plain text average is: €{:0,.0f}\".format(clear_avg));\n"
      ],
      "execution_count": null,
      "outputs": [
        {
          "output_type": "stream",
          "text": [
            "the plain text average is: €51,915\n"
          ],
          "name": "stdout"
        }
      ]
    },
    {
      "cell_type": "markdown",
      "metadata": {
        "id": "_N569xRXgXhZ"
      },
      "source": [
        "### Encrypt the values\n",
        "\n",
        "For convenience, all the values are encrypted in a for loop, but in reality every single value would have been individually encrypted on the client side and sent to the server."
      ]
    },
    {
      "cell_type": "code",
      "metadata": {
        "id": "dJklOq4Bhkdx",
        "colab": {
          "base_uri": "https://localhost:8080/",
          "height": 85
        },
        "outputId": "b6b99a83-4c71-4a07-a9b7-1e81a9ae2073"
      },
      "source": [
        "# example\n",
        "print (\"insert your 2019 investment\")\n",
        "my_value = input()\n",
        "crypted_value = public_key.encrypt(int(my_value))\n",
        "\n",
        "#then send it to the server\n",
        "print (\"crypted value is: \", crypted_value)\n",
        "print (\"sending to the server bla bla bla...\")"
      ],
      "execution_count": null,
      "outputs": [
        {
          "output_type": "stream",
          "text": [
            "insert your 2019 investment\n",
            "5000\n",
            "crypted value is:  <phe.paillier.EncryptedNumber object at 0x7f08b5e4c518>\n",
            "sending to the server bla bla bla...\n"
          ],
          "name": "stdout"
        }
      ]
    },
    {
      "cell_type": "markdown",
      "metadata": {
        "id": "wNTbfoGu30VM"
      },
      "source": [
        "Simulate 50 values"
      ]
    },
    {
      "cell_type": "code",
      "metadata": {
        "id": "S3t2q44fgsZN",
        "colab": {
          "base_uri": "https://localhost:8080/",
          "height": 867
        },
        "outputId": "56ff6b66-fe59-498b-fc55-8db1538a9dd9"
      },
      "source": [
        "encrypted_investements = []\n",
        "\n",
        "for item in investments:\n",
        "  encrypted_investements.append(public_key.encrypt(int(item)))\n",
        "\n",
        "encrypted_investements"
      ],
      "execution_count": null,
      "outputs": [
        {
          "output_type": "execute_result",
          "data": {
            "text/plain": [
              "[<phe.paillier.EncryptedNumber at 0x7f08b68f6e10>,\n",
              " <phe.paillier.EncryptedNumber at 0x7f08b68f6ba8>,\n",
              " <phe.paillier.EncryptedNumber at 0x7f08b68f6ac8>,\n",
              " <phe.paillier.EncryptedNumber at 0x7f08b68f6978>,\n",
              " <phe.paillier.EncryptedNumber at 0x7f08b68f65c0>,\n",
              " <phe.paillier.EncryptedNumber at 0x7f08b68f67b8>,\n",
              " <phe.paillier.EncryptedNumber at 0x7f08b68f6860>,\n",
              " <phe.paillier.EncryptedNumber at 0x7f08b68f6a58>,\n",
              " <phe.paillier.EncryptedNumber at 0x7f08b68f6cc0>,\n",
              " <phe.paillier.EncryptedNumber at 0x7f08b68f6b70>,\n",
              " <phe.paillier.EncryptedNumber at 0x7f08b68f6c18>,\n",
              " <phe.paillier.EncryptedNumber at 0x7f08b68f6908>,\n",
              " <phe.paillier.EncryptedNumber at 0x7f08b68f69b0>,\n",
              " <phe.paillier.EncryptedNumber at 0x7f08b68f6710>,\n",
              " <phe.paillier.EncryptedNumber at 0x7f08b68f6dd8>,\n",
              " <phe.paillier.EncryptedNumber at 0x7f08b68f6d68>,\n",
              " <phe.paillier.EncryptedNumber at 0x7f08b68f6cf8>,\n",
              " <phe.paillier.EncryptedNumber at 0x7f08b68f6240>,\n",
              " <phe.paillier.EncryptedNumber at 0x7f08b68f64a8>,\n",
              " <phe.paillier.EncryptedNumber at 0x7f08b68f6390>,\n",
              " <phe.paillier.EncryptedNumber at 0x7f08b68f61d0>,\n",
              " <phe.paillier.EncryptedNumber at 0x7f08b68f60f0>,\n",
              " <phe.paillier.EncryptedNumber at 0x7f08b68f6278>,\n",
              " <phe.paillier.EncryptedNumber at 0x7f08b69344a8>,\n",
              " <phe.paillier.EncryptedNumber at 0x7f08b6934748>,\n",
              " <phe.paillier.EncryptedNumber at 0x7f08b6934be0>,\n",
              " <phe.paillier.EncryptedNumber at 0x7f08b6934470>,\n",
              " <phe.paillier.EncryptedNumber at 0x7f08b6934ac8>,\n",
              " <phe.paillier.EncryptedNumber at 0x7f08b69342b0>,\n",
              " <phe.paillier.EncryptedNumber at 0x7f08b69493c8>,\n",
              " <phe.paillier.EncryptedNumber at 0x7f08b6949ac8>,\n",
              " <phe.paillier.EncryptedNumber at 0x7f08b69495c0>,\n",
              " <phe.paillier.EncryptedNumber at 0x7f08b6949780>,\n",
              " <phe.paillier.EncryptedNumber at 0x7f08b6949d30>,\n",
              " <phe.paillier.EncryptedNumber at 0x7f08b6949668>,\n",
              " <phe.paillier.EncryptedNumber at 0x7f08b6949eb8>,\n",
              " <phe.paillier.EncryptedNumber at 0x7f08b6949b00>,\n",
              " <phe.paillier.EncryptedNumber at 0x7f08b69490b8>,\n",
              " <phe.paillier.EncryptedNumber at 0x7f08b6949048>,\n",
              " <phe.paillier.EncryptedNumber at 0x7f08b6949ef0>,\n",
              " <phe.paillier.EncryptedNumber at 0x7f08b6949cf8>,\n",
              " <phe.paillier.EncryptedNumber at 0x7f08b6949208>,\n",
              " <phe.paillier.EncryptedNumber at 0x7f08b69494e0>,\n",
              " <phe.paillier.EncryptedNumber at 0x7f08b6949c18>,\n",
              " <phe.paillier.EncryptedNumber at 0x7f08b6949f28>,\n",
              " <phe.paillier.EncryptedNumber at 0x7f08b6949198>,\n",
              " <phe.paillier.EncryptedNumber at 0x7f08b69491d0>,\n",
              " <phe.paillier.EncryptedNumber at 0x7f08b6949320>,\n",
              " <phe.paillier.EncryptedNumber at 0x7f08b6949e48>,\n",
              " <phe.paillier.EncryptedNumber at 0x7f08b6949080>]"
            ]
          },
          "metadata": {
            "tags": []
          },
          "execution_count": 28
        }
      ]
    },
    {
      "cell_type": "markdown",
      "metadata": {
        "id": "7aRrjkzYp8g1"
      },
      "source": [
        "### Decrypt the result\n",
        "Each farmer has encrypted and sent the investment value, now we can calculate the mean using the encrypted values."
      ]
    },
    {
      "cell_type": "code",
      "metadata": {
        "id": "vApQyJ4Jqcgi",
        "colab": {
          "base_uri": "https://localhost:8080/",
          "height": 34
        },
        "outputId": "b0eb8530-f7f1-4025-a3c6-301785543c4c"
      },
      "source": [
        "encrypted_avg = sum(encrypted_investements) / len(encrypted_investements)\n",
        "encrypted_avg"
      ],
      "execution_count": null,
      "outputs": [
        {
          "output_type": "execute_result",
          "data": {
            "text/plain": [
              "<phe.paillier.EncryptedNumber at 0x7f08b68badd8>"
            ]
          },
          "metadata": {
            "tags": []
          },
          "execution_count": 35
        }
      ]
    },
    {
      "cell_type": "markdown",
      "metadata": {
        "id": "nKRwoFz4sM8A"
      },
      "source": [
        "**Test**"
      ]
    },
    {
      "cell_type": "code",
      "metadata": {
        "id": "CqBwyeBRqWom",
        "colab": {
          "base_uri": "https://localhost:8080/",
          "height": 34
        },
        "outputId": "0273946b-5828-40c7-88f4-fc1c2d5b2ca3"
      },
      "source": [
        "decrypted_avg = private_key.decrypt(encrypted_avg)\n",
        "\n",
        "\n",
        "if decrypted_avg == clear_avg:\n",
        "  print(\"success the decrypted average is €{:0,.0f} and matches the plain text average\".format(decrypted_avg));\n",
        "else:\n",
        "  print ('Epic Fail!')\n"
      ],
      "execution_count": null,
      "outputs": [
        {
          "output_type": "stream",
          "text": [
            "success the decrypted average is €51,915 and matches the plain text average\n"
          ],
          "name": "stdout"
        }
      ]
    }
  ]
}