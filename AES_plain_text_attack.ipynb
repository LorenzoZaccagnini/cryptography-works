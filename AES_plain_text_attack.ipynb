{
  "nbformat": 4,
  "nbformat_minor": 0,
  "metadata": {
    "colab": {
      "name": "AES plain text attack.ipynb",
      "provenance": [],
      "authorship_tag": "ABX9TyMAwq5xbyk8eQBnU3lgj7SU",
      "include_colab_link": true
    },
    "kernelspec": {
      "name": "python3",
      "display_name": "Python 3"
    },
    "language_info": {
      "name": "python"
    }
  },
  "cells": [
    {
      "cell_type": "markdown",
      "metadata": {
        "id": "view-in-github",
        "colab_type": "text"
      },
      "source": [
        "<a href=\"https://colab.research.google.com/github/LorenzoZaccagnini/cryptography-works/blob/master/AES_plain_text_attack.ipynb\" target=\"_parent\"><img src=\"https://colab.research.google.com/assets/colab-badge.svg\" alt=\"Open In Colab\"/></a>"
      ]
    },
    {
      "cell_type": "markdown",
      "metadata": {
        "id": "XJTNbuoHRagF"
      },
      "source": [
        "Author: [Lorenzo Zaccagnini](https://www.linkedin.com/in/lorenzo-zaccagnini/)"
      ]
    },
    {
      "cell_type": "markdown",
      "metadata": {
        "id": "_J26nEpsRcTb"
      },
      "source": [
        "# Crack AES using IV attack\n",
        "\n",
        "In this notebook I'll try to break an AES symmetric encryption. According to the Snowden documents, the NSA is doing research on whether a cryptographic attack based on tau statistic may help to break AES.[28]\n",
        "\n",
        "At present, there is no known practical attack that would allow someone without knowledge of the key to read data encrypted by AES when correctly implemented.\n",
        "\n",
        "[Source Wikipedia](https://en.wikipedia.org/wiki/Advanced_Encryption_Standard)"
      ]
    },
    {
      "cell_type": "markdown",
      "metadata": {
        "id": "M14GHBkASb6L"
      },
      "source": [
        "The actual problem lies in reusing the same initialization vector value (IV) with multiple encryptions with the same key. The IV values should be nonces (or 'number used only once') to protect against this attack. Usually these nonce values are achieved by using a running counter value added to the original IV value (IV || CTR[i]), hence the name counter mode. Let me demonstrate the attack and how to prevent it:\n",
        "\n",
        "Ciphertext1 = Plaintext1 ⊕ AES(key, IV)\n",
        "Ciphertext2 = Plaintext2 ⊕ AES(key, IV)\n",
        "\n",
        "\n",
        "Which leads to the following ciphertext pair:\n",
        "Ciphertext1 ⊕ Ciphertext2  = Plaintext1 ⊕ AES(key, IV) ⊕  Plaintext2 ⊕ AES(key, IV)\n",
        "\n",
        "\n",
        "Now, because the (key, IV) pair is reused, the AES(key, IV) will yield the same result for both ciphertexts. \n",
        "This means that an attacker can now compute Ciphertext pairs easily by cancelling the AES encryption out of the equation (XORing anything by itself will always yield to 0):\n",
        "Ciphertext1 ⊕ Ciphertext2  = Plaintext1 ⊕  Plaintext2 \n",
        "\n",
        "Therefore an attacker can easily get the Plaintext2 value by computing the following operation:\n",
        "Plaintext2 = Plaintext1 ⊕ Ciphertext1 ⊕ Ciphertext2\n",
        "\n",
        "Source [John Hammond - Arttu Paju comment](https://www.youtube.com/watch?v=Gtfr1dBGzHg) "
      ]
    },
    {
      "cell_type": "markdown",
      "metadata": {
        "id": "ZfWU9daZcaRW"
      },
      "source": [
        "**The plaintext is:**\n",
        "No right of private conversation was enumerated in the Constitution. I don't suppose it occurred to anyone at the time that it could be prevented\n",
        "\n",
        "Now we download AES encrypted outputs\n",
        "\n"
      ]
    },
    {
      "cell_type": "code",
      "metadata": {
        "colab": {
          "base_uri": "https://localhost:8080/"
        },
        "id": "vrBx-lZUlOsH",
        "outputId": "d3bc3177-e748-456c-d928-51bc5fdde96e"
      },
      "source": [
        "!wget https://raw.githubusercontent.com/LorenzoZaccagnini/cryptography-works/master/AES%20plaintext%20attack/output.txt"
      ],
      "execution_count": 5,
      "outputs": [
        {
          "output_type": "stream",
          "text": [
            "--2021-06-10 15:43:43--  https://raw.githubusercontent.com/LorenzoZaccagnini/cryptography-works/master/AES%20plaintext%20attack/output.txt\n",
            "Resolving raw.githubusercontent.com (raw.githubusercontent.com)... 185.199.108.133, 185.199.109.133, 185.199.110.133, ...\n",
            "Connecting to raw.githubusercontent.com (raw.githubusercontent.com)|185.199.108.133|:443... connected.\n",
            "HTTP request sent, awaiting response... 200 OK\n",
            "Length: 340 [text/plain]\n",
            "Saving to: ‘output.txt’\n",
            "\n",
            "\routput.txt            0%[                    ]       0  --.-KB/s               \routput.txt          100%[===================>]     340  --.-KB/s    in 0s      \n",
            "\n",
            "2021-06-10 15:43:43 (15.7 MB/s) - ‘output.txt’ saved [340/340]\n",
            "\n"
          ],
          "name": "stdout"
        }
      ]
    },
    {
      "cell_type": "code",
      "metadata": {
        "colab": {
          "base_uri": "https://localhost:8080/"
        },
        "id": "hf1o9TDWmALP",
        "outputId": "d2619042-a854-4e37-e51c-088b33b02b25"
      },
      "source": [
        "cat output.txt"
      ],
      "execution_count": 6,
      "outputs": [
        {
          "output_type": "stream",
          "text": [
            "464851522838603926f4422a4ca6d81b02f351b454e6f968a324fcc77da30cf979eec57c8675de3bb92f6c21730607066226780a8d4539fcf67f9f5589d150a6c7867140b5a63de2971dc209f480c270882194f288167ed910b64cf627ea6392456fa1b648afd0b239b59652baedc595d4f87634cf7ec4262f8c9581d7f56dc6f836cfe696518ce434ef4616431d4d1b361c\n",
            "4b6f25623a2d3b3833a8405557e7e83257d360a054c2ea\n"
          ],
          "name": "stdout"
        }
      ]
    },
    {
      "cell_type": "markdown",
      "metadata": {
        "id": "4056gskYpSjI"
      },
      "source": [
        "**we have the two ciphertexts, and we have one of the plaintexts**"
      ]
    },
    {
      "cell_type": "markdown",
      "metadata": {
        "id": "g7rfuCpfoMLQ"
      },
      "source": [
        "# Some math\n",
        "C1​=P1​⊕K\n",
        "C2​=P2​⊕K\n",
        "\n",
        "**Then**\n",
        "\n",
        "If we now XOR the two ciphertexts together, we get\n",
        "\n",
        "C1​⊕C2​=P1​⊕K⊕P2​⊕K\n",
        "\n",
        "Because an XOR is its own inverse\n",
        "\n",
        "C1​⊕C2​=P1​⊕P2\n",
        "\n",
        "If we know one of the plaintexts, we can XOR the value we have from above with that plaintext, and get the other\n",
        "\n",
        "C1⊕C2⊕P1=P1⊕P2⊕P1=P2"
      ]
    },
    {
      "cell_type": "code",
      "metadata": {
        "colab": {
          "base_uri": "https://localhost:8080/"
        },
        "id": "d-hpR2Lwn88K",
        "outputId": "a80608cd-661a-4ed3-860b-c41d2585f4d2"
      },
      "source": [
        "ciphertext1 = '464851522838603926f4422a4ca6d81b02f351b454e6f968a324fcc77da30cf979eec57c8675de3bb92f6c21730607066226780a8d4539fcf67f9f5589d150a6c7867140b5a63de2971dc209f480c270882194f288167ed910b64cf627ea6392456fa1b648afd0b239b59652baedc595d4f87634cf7ec4262f8c9581d7f56dc6f836cfe696518ce434ef4616431d4d1b361c'\n",
        "\n",
        "ciphertext2 = '4b6f25623a2d3b3833a8405557e7e83257d360a054c2ea'\n",
        "\n",
        "plaintext = b'No right of private conversation was enumerated in the Constitution. I don\\'t suppose it occurred to anyone at the time that it could be prevented.'.hex()\n",
        "\n",
        "def xor(hex1, hex2, getAscii = False):\n",
        "  result = []\n",
        "\n",
        "  for ind in range(0, len(hex1), 2):\n",
        "    longIndex = ind\n",
        "    shortIndex = ind%len(hex2)\n",
        "    hexChar1 = hex1[longIndex:longIndex+2]\n",
        "    byte1 = int(hexChar1, 16)\n",
        "\n",
        "    hexChar2 = hex2[shortIndex:shortIndex+2]\n",
        "    byte2 = int(hexChar2, 16)\n",
        "\n",
        "    asciiNum = byte1 ^ byte2\n",
        "    result.append(chr(asciiNum))\n",
        "\n",
        "\n",
        "  out = ''.join(result)\n",
        "  if getAscii:\n",
        "    print('Result:', out)\n",
        "    return out\n",
        "  else:\n",
        "    out = out.encode('utf-8').hex()\n",
        "    print('Result:', out)\n",
        "    return out\n",
        "    \n",
        "\n",
        "xored = xor(ciphertext2, ciphertext1)\n",
        "\n",
        "flag = xor(xored, plaintext, True)"
      ],
      "execution_count": 20,
      "outputs": [
        {
          "output_type": "stream",
          "text": [
            "Result: 0d27743012155b01155c027f1b41302955203114002413\n",
            "Result: CHTB{r3u53d_k3Y_4TT4cK}\n"
          ],
          "name": "stdout"
        }
      ]
    }
  ]
}