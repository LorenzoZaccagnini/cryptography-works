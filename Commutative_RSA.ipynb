{
  "nbformat": 4,
  "nbformat_minor": 0,
  "metadata": {
    "colab": {
      "name": "Commutative RSA.ipynb",
      "provenance": [],
      "collapsed_sections": [],
      "authorship_tag": "ABX9TyP7RzevZNBInoutb7R6Onh7",
      "include_colab_link": true
    },
    "kernelspec": {
      "name": "python3",
      "display_name": "Python 3"
    },
    "accelerator": "GPU"
  },
  "cells": [
    {
      "cell_type": "markdown",
      "metadata": {
        "id": "view-in-github",
        "colab_type": "text"
      },
      "source": [
        "<a href=\"https://colab.research.google.com/github/LorenzoZaccagnini/cryptography-works/blob/master/Commutative_RSA.ipynb\" target=\"_parent\"><img src=\"https://colab.research.google.com/assets/colab-badge.svg\" alt=\"Open In Colab\"/></a>"
      ]
    },
    {
      "cell_type": "markdown",
      "metadata": {
        "id": "m4KIslRT3oN1",
        "colab_type": "text"
      },
      "source": [
        "Author: [Lorenzo Zaccagnini](https://www.linkedin.com/in/lorenzo-zaccagnini/)"
      ]
    },
    {
      "cell_type": "code",
      "metadata": {
        "id": "dQXsCp22Z12_",
        "colab_type": "code",
        "colab": {}
      },
      "source": [
        "!apt install libmpc-dev"
      ],
      "execution_count": 0,
      "outputs": []
    },
    {
      "cell_type": "code",
      "metadata": {
        "id": "MM9nMrFxXjgz",
        "colab_type": "code",
        "colab": {}
      },
      "source": [
        "!pip install gmpy2"
      ],
      "execution_count": 0,
      "outputs": []
    },
    {
      "cell_type": "code",
      "metadata": {
        "id": "jZwBoUu6DooA",
        "colab_type": "code",
        "colab": {}
      },
      "source": [
        "import math\n",
        "import gmpy2\n",
        "from itertools import chain\n",
        "from random import randint\n",
        "import numpy\n",
        "from datetime import datetime as dt"
      ],
      "execution_count": 0,
      "outputs": []
    },
    {
      "cell_type": "markdown",
      "metadata": {
        "id": "7nPbTfph4uaw",
        "colab_type": "text"
      },
      "source": [
        "# Commutative RSA\n",
        "Decrypt in any order\n",
        "\n",
        "### What is RSA\n",
        "RSA (Rivest–Shamir–Adleman) is one of the first public-key cryptosystems and is widely used for secure data transmission. In such a cryptosystem, the encryption key is public and it is different from the decryption key which is kept secret (private). In RSA, this asymmetry is based on the practical difficulty of the factorization of the product of two large prime numbers, the \"factoring problem\". ([Wikipedia](https://en.wikipedia.org/wiki/RSA_(cryptosystem)))\n",
        "\n"
      ]
    },
    {
      "cell_type": "markdown",
      "metadata": {
        "id": "RUKN_ySWGXcK",
        "colab_type": "text"
      },
      "source": [
        "### Let's generate Bob key"
      ]
    },
    {
      "cell_type": "markdown",
      "metadata": {
        "id": "iftrJN2cFu90",
        "colab_type": "text"
      },
      "source": [
        "Insert **P** and **Q**"
      ]
    },
    {
      "cell_type": "code",
      "metadata": {
        "id": "CWfAH-R0F06C",
        "colab_type": "code",
        "outputId": "0b84fcb5-a131-4d32-91be-dfe6dd4c19a3",
        "colab": {
          "base_uri": "https://localhost:8080/",
          "height": 119
        }
      },
      "source": [
        "print (\"insert P: \")\n",
        "p = int(input())\n",
        "print (\"insert Q: \")\n",
        "q = int(input())\n",
        "print (\"p is: \", p)\n",
        "print (\"q is: \", q)"
      ],
      "execution_count": 63,
      "outputs": [
        {
          "output_type": "stream",
          "text": [
            "insert P: \n",
            "7\n",
            "insert Q: \n",
            "13\n",
            "p is:  7\n",
            "q is:  13\n"
          ],
          "name": "stdout"
        }
      ]
    },
    {
      "cell_type": "markdown",
      "metadata": {
        "id": "a2nBuJkQAnr-",
        "colab_type": "text"
      },
      "source": [
        "Calculate the encryption key N = (P*Q)"
      ]
    },
    {
      "cell_type": "code",
      "metadata": {
        "id": "8CU0Ylj-Avrr",
        "colab_type": "code",
        "colab": {
          "base_uri": "https://localhost:8080/",
          "height": 34
        },
        "outputId": "bcd09512-4e78-42f1-8837-f04080c2818c"
      },
      "source": [
        "n = p*q\n",
        "n"
      ],
      "execution_count": 64,
      "outputs": [
        {
          "output_type": "execute_result",
          "data": {
            "text/plain": [
              "91"
            ]
          },
          "metadata": {
            "tags": []
          },
          "execution_count": 64
        }
      ]
    },
    {
      "cell_type": "markdown",
      "metadata": {
        "id": "7TI8erVAFsy2",
        "colab_type": "text"
      },
      "source": [
        "Insert the public exponent **e**, should not share factors with PHI = (p-1)*(q-1)"
      ]
    },
    {
      "cell_type": "code",
      "metadata": {
        "id": "Kn144JXVE_cB",
        "colab_type": "code",
        "outputId": "b8917854-e5af-4c24-9801-32c725c3cfc7",
        "colab": {
          "base_uri": "https://localhost:8080/",
          "height": 51
        }
      },
      "source": [
        "e=int(input())\n",
        "assert gmpy2.gcd(PHI, e) == 1, \"error: e shares factors with PHI\"\n",
        "print (\"e is: \", e)"
      ],
      "execution_count": 65,
      "outputs": [
        {
          "output_type": "stream",
          "text": [
            "5\n",
            "e is:  5\n"
          ],
          "name": "stdout"
        }
      ]
    },
    {
      "cell_type": "markdown",
      "metadata": {
        "id": "-d9gyVYUCPqM",
        "colab_type": "text"
      },
      "source": [
        "Calculate the decryption key d\n",
        "\n",
        "$d=e^{-1}$ mod $Φ$"
      ]
    },
    {
      "cell_type": "code",
      "metadata": {
        "id": "XnyCO-R2DgEy",
        "colab_type": "code",
        "colab": {
          "base_uri": "https://localhost:8080/",
          "height": 34
        },
        "outputId": "6daa68dd-6043-4e64-ceb8-f240c229a1eb"
      },
      "source": [
        "PHI = (p-1)*(q-1)\n",
        "PHI"
      ],
      "execution_count": 66,
      "outputs": [
        {
          "output_type": "execute_result",
          "data": {
            "text/plain": [
              "72"
            ]
          },
          "metadata": {
            "tags": []
          },
          "execution_count": 66
        }
      ]
    },
    {
      "cell_type": "code",
      "metadata": {
        "id": "owCzudMcC_0N",
        "colab_type": "code",
        "colab": {
          "base_uri": "https://localhost:8080/",
          "height": 34
        },
        "outputId": "6392815d-625d-4dbe-87dc-7f925eaa43e7"
      },
      "source": [
        "d=(gmpy2.invert(e, PHI))\n",
        "d"
      ],
      "execution_count": 67,
      "outputs": [
        {
          "output_type": "execute_result",
          "data": {
            "text/plain": [
              "mpz(29)"
            ]
          },
          "metadata": {
            "tags": []
          },
          "execution_count": 67
        }
      ]
    },
    {
      "cell_type": "markdown",
      "metadata": {
        "id": "aS8emBSVGOYa",
        "colab_type": "text"
      },
      "source": [
        "Encrypt message"
      ]
    },
    {
      "cell_type": "code",
      "metadata": {
        "id": "vHpnK-SWGI9b",
        "colab_type": "code",
        "outputId": "600c1dee-184e-4bd6-dbc2-b0512914d5d9",
        "colab": {
          "base_uri": "https://localhost:8080/",
          "height": 68
        }
      },
      "source": [
        "message=int(input())\n",
        "print (\"message is: \", message)\n",
        "c = pow(message, e, n)\n",
        "print (\"cipher is: \", c)"
      ],
      "execution_count": 68,
      "outputs": [
        {
          "output_type": "stream",
          "text": [
            "35\n",
            "message is:  35\n",
            "cipher is:  42\n"
          ],
          "name": "stdout"
        }
      ]
    },
    {
      "cell_type": "markdown",
      "metadata": {
        "id": "HXhsVHxEDsDy",
        "colab_type": "text"
      },
      "source": [
        "Decrypt message"
      ]
    },
    {
      "cell_type": "code",
      "metadata": {
        "id": "bRjsDA5cDuI8",
        "colab_type": "code",
        "colab": {
          "base_uri": "https://localhost:8080/",
          "height": 34
        },
        "outputId": "309ddf59-4441-45da-8574-ca816abcd050"
      },
      "source": [
        "print (\"message is: \", pow(c, d, n))"
      ],
      "execution_count": 69,
      "outputs": [
        {
          "output_type": "stream",
          "text": [
            "message is:  35\n"
          ],
          "name": "stdout"
        }
      ]
    },
    {
      "cell_type": "markdown",
      "metadata": {
        "id": "kSsGaHLLBrtv",
        "colab_type": "text"
      },
      "source": [
        "### Generate Alice key\n",
        "\n",
        "This key has the same N, so the same P and Q but a different public exponent **e**"
      ]
    },
    {
      "cell_type": "code",
      "metadata": {
        "id": "-rCqErEiEPmn",
        "colab_type": "code",
        "colab": {
          "base_uri": "https://localhost:8080/",
          "height": 51
        },
        "outputId": "ffc1b234-6348-4ee6-a245-b07d872c5301"
      },
      "source": [
        "second_e=int(input())\n",
        "assert gmpy2.gcd(PHI, second_e) == 1, \"error: e shares factors with PHI\"\n",
        "print (\"e is: \", second_e)"
      ],
      "execution_count": 77,
      "outputs": [
        {
          "output_type": "stream",
          "text": [
            "11\n",
            "e is:  11\n"
          ],
          "name": "stdout"
        }
      ]
    },
    {
      "cell_type": "markdown",
      "metadata": {
        "id": "Bf3Cr6UXE6_J",
        "colab_type": "text"
      },
      "source": [
        "Calculate the second decryption key d"
      ]
    },
    {
      "cell_type": "code",
      "metadata": {
        "id": "WEBUZdv7E-Wx",
        "colab_type": "code",
        "colab": {
          "base_uri": "https://localhost:8080/",
          "height": 34
        },
        "outputId": "f04c0c65-70fc-4e7b-8de2-039354ad0b27"
      },
      "source": [
        "second_d=(gmpy2.invert(second_e, PHI))\n",
        "second_d"
      ],
      "execution_count": 78,
      "outputs": [
        {
          "output_type": "execute_result",
          "data": {
            "text/plain": [
              "mpz(59)"
            ]
          },
          "metadata": {
            "tags": []
          },
          "execution_count": 78
        }
      ]
    },
    {
      "cell_type": "markdown",
      "metadata": {
        "id": "DkzxOZPsEoSh",
        "colab_type": "text"
      },
      "source": [
        "Decrypt message with the second key"
      ]
    },
    {
      "cell_type": "code",
      "metadata": {
        "id": "zlorcvkJEphN",
        "colab_type": "code",
        "colab": {
          "base_uri": "https://localhost:8080/",
          "height": 34
        },
        "outputId": "eecdad16-906b-42a4-f917-c6847e1dd350"
      },
      "source": [
        "if message == pow(c, second_d, n):\n",
        "  print (\"success message is: \", message)\n",
        "else:\n",
        "  print ('Epic Fail!')"
      ],
      "execution_count": 81,
      "outputs": [
        {
          "output_type": "stream",
          "text": [
            "success message is:  35\n"
          ],
          "name": "stdout"
        }
      ]
    },
    {
      "cell_type": "markdown",
      "metadata": {
        "id": "mn7idrjFGG0F",
        "colab_type": "text"
      },
      "source": [
        "### Let's try the inverse\n",
        "\n",
        "Encrypt another message with the second key and decrypt with the first"
      ]
    },
    {
      "cell_type": "markdown",
      "metadata": {
        "id": "jw0DEgPpH9W0",
        "colab_type": "text"
      },
      "source": [
        "Insert the message and get the cipher"
      ]
    },
    {
      "cell_type": "code",
      "metadata": {
        "id": "2MAX9q1MGOeC",
        "colab_type": "code",
        "colab": {
          "base_uri": "https://localhost:8080/",
          "height": 51
        },
        "outputId": "b1538198-ab4f-4c6e-fe69-3402d746865a"
      },
      "source": [
        "second_message=int(input())\n",
        "second_c = pow(second_message, second_e, n)\n",
        "print (\"cipher is: \", second_c)"
      ],
      "execution_count": 82,
      "outputs": [
        {
          "output_type": "stream",
          "text": [
            "30\n",
            "cipher is:  88\n"
          ],
          "name": "stdout"
        }
      ]
    },
    {
      "cell_type": "markdown",
      "metadata": {
        "id": "2U4ge0O1ILfy",
        "colab_type": "text"
      },
      "source": [
        "Decrypt message with the second key"
      ]
    },
    {
      "cell_type": "code",
      "metadata": {
        "id": "P1IeQHo4IMcZ",
        "colab_type": "code",
        "colab": {
          "base_uri": "https://localhost:8080/",
          "height": 34
        },
        "outputId": "f2c5a904-7bcb-4fdb-ef7d-6b6392019e8f"
      },
      "source": [
        "pow(second_c, second_d, n)"
      ],
      "execution_count": 83,
      "outputs": [
        {
          "output_type": "execute_result",
          "data": {
            "text/plain": [
              "mpz(30)"
            ]
          },
          "metadata": {
            "tags": []
          },
          "execution_count": 83
        }
      ]
    },
    {
      "cell_type": "markdown",
      "metadata": {
        "id": "tQ5AAaMNGrDL",
        "colab_type": "text"
      },
      "source": [
        "Decrypt message with the **first** key"
      ]
    },
    {
      "cell_type": "code",
      "metadata": {
        "id": "D2IRHuBfGshE",
        "colab_type": "code",
        "colab": {
          "base_uri": "https://localhost:8080/",
          "height": 51
        },
        "outputId": "fbb98ec7-0338-4a5f-92bd-5625163037e2"
      },
      "source": [
        "dec_sec_msg = pow(second_c, d, n)\n",
        "print (\"result: \", dec_sec_msg)\n",
        "\n",
        "if second_message == dec_sec_msg:\n",
        "  print (\"success message is: \", second_message)\n",
        "else:\n",
        "  print ('Epic Fail!')"
      ],
      "execution_count": 84,
      "outputs": [
        {
          "output_type": "stream",
          "text": [
            "result:  30\n",
            "success message is:  30\n"
          ],
          "name": "stdout"
        }
      ]
    }
  ]
}