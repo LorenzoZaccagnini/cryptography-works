{
  "nbformat": 4,
  "nbformat_minor": 0,
  "metadata": {
    "colab": {
      "name": "CrackRSA.ipynb",
      "provenance": [],
      "collapsed_sections": [],
      "toc_visible": true
    },
    "kernelspec": {
      "name": "python3",
      "display_name": "Python 3"
    },
    "accelerator": "GPU"
  },
  "cells": [
    {
      "cell_type": "markdown",
      "metadata": {
        "id": "m4KIslRT3oN1",
        "colab_type": "text"
      },
      "source": [
        "Author: [Lorenzo Zaccagnini](https://www.linkedin.com/in/lorenzo-zaccagnini/)"
      ]
    },
    {
      "cell_type": "code",
      "metadata": {
        "id": "dQXsCp22Z12_",
        "colab_type": "code",
        "colab": {}
      },
      "source": [
        "!apt install libmpc-dev"
      ],
      "execution_count": 0,
      "outputs": []
    },
    {
      "cell_type": "code",
      "metadata": {
        "id": "MM9nMrFxXjgz",
        "colab_type": "code",
        "colab": {}
      },
      "source": [
        "!pip install gmpy2"
      ],
      "execution_count": 0,
      "outputs": []
    },
    {
      "cell_type": "code",
      "metadata": {
        "id": "jZwBoUu6DooA",
        "colab_type": "code",
        "colab": {}
      },
      "source": [
        "import math\n",
        "import gmpy2\n",
        "from itertools import chain\n",
        "from random import randint\n",
        "import numpy\n",
        "from datetime import datetime as dt"
      ],
      "execution_count": 0,
      "outputs": []
    },
    {
      "cell_type": "markdown",
      "metadata": {
        "id": "7nPbTfph4uaw",
        "colab_type": "text"
      },
      "source": [
        "# Crack RSA\n",
        "In this notebook I'll try to break an RSA encryption.\n",
        "\n",
        "This is based on the amazing lessons of Prof. Bill Buchanan, in particular [Cracking Weak RSA with Python](https://www.youtube.com/watch?v=iJuIJLtUVMo)\n",
        "\n",
        "### What is RSA\n",
        "RSA (Rivest–Shamir–Adleman) is one of the first public-key cryptosystems and is widely used for secure data transmission. In such a cryptosystem, the encryption key is public and it is different from the decryption key which is kept secret (private). In RSA, this asymmetry is based on the practical difficulty of the factorization of the product of two large prime numbers, the \"factoring problem\". ([Wikipedia](https://en.wikipedia.org/wiki/RSA_(cryptosystem)))\n",
        "\n"
      ]
    },
    {
      "cell_type": "markdown",
      "metadata": {
        "id": "RUKN_ySWGXcK",
        "colab_type": "text"
      },
      "source": [
        "### Let's define the first parameters"
      ]
    },
    {
      "cell_type": "markdown",
      "metadata": {
        "id": "7TI8erVAFsy2",
        "colab_type": "text"
      },
      "source": [
        "Insert the public exponent **e**"
      ]
    },
    {
      "cell_type": "code",
      "metadata": {
        "id": "Kn144JXVE_cB",
        "colab_type": "code",
        "outputId": "3cfe7ff7-acf6-4f9a-e034-bbf5fb3d4555",
        "colab": {
          "base_uri": "https://localhost:8080/",
          "height": 51
        }
      },
      "source": [
        "e=int(input())\n",
        "print (\"e is: \", e)"
      ],
      "execution_count": 1,
      "outputs": [
        {
          "output_type": "stream",
          "text": [
            "65537\n",
            "e is:  65537\n"
          ],
          "name": "stdout"
        }
      ]
    },
    {
      "cell_type": "markdown",
      "metadata": {
        "id": "iftrJN2cFu90",
        "colab_type": "text"
      },
      "source": [
        "Insert **n** (the product of two the distinct prime numbers p and q)"
      ]
    },
    {
      "cell_type": "code",
      "metadata": {
        "id": "CWfAH-R0F06C",
        "colab_type": "code",
        "outputId": "1c2d6d52-655d-46b7-9945-bdc3474f0341",
        "colab": {
          "base_uri": "https://localhost:8080/",
          "height": 51
        }
      },
      "source": [
        "n= int(input())\n",
        "print (\"n is: \", n)"
      ],
      "execution_count": 2,
      "outputs": [
        {
          "output_type": "stream",
          "text": [
            "551192507892523087002175107206796139\n",
            "n is:  551192507892523087002175107206796139\n"
          ],
          "name": "stdout"
        }
      ]
    },
    {
      "cell_type": "markdown",
      "metadata": {
        "id": "aS8emBSVGOYa",
        "colab_type": "text"
      },
      "source": [
        "Insert the encrypted message **c** (cipher)"
      ]
    },
    {
      "cell_type": "code",
      "metadata": {
        "id": "vHpnK-SWGI9b",
        "colab_type": "code",
        "outputId": "542f1fdf-492c-4bd6-8655-eb92024ca719",
        "colab": {
          "base_uri": "https://localhost:8080/",
          "height": 51
        }
      },
      "source": [
        "c=int(input())\n",
        "print (\"cipher is: \", c)"
      ],
      "execution_count": 0,
      "outputs": [
        {
          "output_type": "stream",
          "text": [
            "366309566851082221204562001465846128\n",
            "cipher is:  366309566851082221204562001465846128\n"
          ],
          "name": "stdout"
        }
      ]
    },
    {
      "cell_type": "markdown",
      "metadata": {
        "id": "i-mJnZscra45",
        "colab_type": "text"
      },
      "source": [
        "**The public key is (n, e)**"
      ]
    },
    {
      "cell_type": "code",
      "metadata": {
        "id": "ujlKyVc9HQ2X",
        "colab_type": "code",
        "outputId": "73a67bca-64fd-474e-a1d6-19d706c59dbc",
        "colab": {
          "base_uri": "https://localhost:8080/",
          "height": 68
        }
      },
      "source": [
        "print('Public key \\nn: {0} \\ne: {1}'\n",
        "     .format(n, e))"
      ],
      "execution_count": 5,
      "outputs": [
        {
          "output_type": "stream",
          "text": [
            "Public key \n",
            "n: 551192507892523087002175107206796139 \n",
            "e: 65537\n"
          ],
          "name": "stdout"
        }
      ]
    },
    {
      "cell_type": "markdown",
      "metadata": {
        "id": "y9iyg6oQbQs4",
        "colab_type": "text"
      },
      "source": [
        "### Factoring using the Elliptic Curve Method (ECM)\n",
        "Pyecm factors large integers (up to 50 digits) using the Elliptic Curve Method (ECM), a fast factoring algorithm.\n",
        "\n",
        "Source [pyecm](https://github.com/martingkelly/pyecm)\n",
        "\n",
        "Given p and q, **it’s easy to find their product**, n = pq. Instead given such an n, it appears to be **quite hard to recover the prime factors** p and q.\n",
        "\n",
        "Source [The Mathematics of the RSA Public-Key Cryptosystem](http://www.mathaware.org/mam/06/Kaliski.pdf)\n",
        "\n",
        "With ECM we'll able to find p and q, **hopefully**."
      ]
    },
    {
      "cell_type": "code",
      "metadata": {
        "id": "-hskTtnXAS2z",
        "colab_type": "code",
        "outputId": "2fd624e2-fa4f-43ab-bd3b-bf8c5d2ca0c0",
        "colab": {
          "base_uri": "https://localhost:8080/",
          "height": 204
        }
      },
      "source": [
        "!wget https://raw.githubusercontent.com/martingkelly/pyecm/master/pyecm.py"
      ],
      "execution_count": 0,
      "outputs": [
        {
          "output_type": "stream",
          "text": [
            "--2020-01-25 09:31:39--  https://raw.githubusercontent.com/martingkelly/pyecm/master/pyecm.py\n",
            "Resolving raw.githubusercontent.com (raw.githubusercontent.com)... 151.101.0.133, 151.101.64.133, 151.101.128.133, ...\n",
            "Connecting to raw.githubusercontent.com (raw.githubusercontent.com)|151.101.0.133|:443... connected.\n",
            "HTTP request sent, awaiting response... 200 OK\n",
            "Length: 41473 (41K) [text/plain]\n",
            "Saving to: ‘pyecm.py’\n",
            "\n",
            "\rpyecm.py              0%[                    ]       0  --.-KB/s               \rpyecm.py            100%[===================>]  40.50K  --.-KB/s    in 0.01s   \n",
            "\n",
            "2020-01-25 09:31:39 (3.24 MB/s) - ‘pyecm.py’ saved [41473/41473]\n",
            "\n"
          ],
          "name": "stdout"
        }
      ]
    },
    {
      "cell_type": "code",
      "metadata": {
        "id": "FbViNOqCBfio",
        "colab_type": "code",
        "colab": {}
      },
      "source": [
        "import pyecm"
      ],
      "execution_count": 0,
      "outputs": []
    },
    {
      "cell_type": "code",
      "metadata": {
        "id": "3Hea1vJACx_k",
        "colab_type": "code",
        "outputId": "0867239b-1a35-4c0c-c14b-5d54124cab67",
        "colab": {
          "base_uri": "https://localhost:8080/",
          "height": 51
        }
      },
      "source": [
        "p, q = list(pyecm.factors(n, False, True,10 ,1))\n",
        "\n",
        "print('p: {0} \\nq: {1}'\n",
        "     .format(p, q))"
      ],
      "execution_count": 0,
      "outputs": [
        {
          "output_type": "stream",
          "text": [
            "p: 892710084053067989 \n",
            "q: 617437304382188351\n"
          ],
          "name": "stdout"
        }
      ]
    },
    {
      "cell_type": "markdown",
      "metadata": {
        "id": "9ryUQJn45xXw",
        "colab_type": "text"
      },
      "source": [
        "### Find the decryption key d\n",
        "Given n, e, c, and the prime factors p and q, **it’s easy to**\n",
        "recover the value m. Given only n, e, and c, but not the prime factors, **it appears to be quite hard** to recover the value m. \n",
        "\n",
        "Time for some math, calculate \n",
        "\n",
        "$Φ = (p−1)*(q−1) $ "
      ]
    },
    {
      "cell_type": "code",
      "metadata": {
        "id": "sqRlGdsOB9_H",
        "colab_type": "code",
        "colab": {}
      },
      "source": [
        "PHI = (p-1)*(q-1)"
      ],
      "execution_count": 0,
      "outputs": []
    },
    {
      "cell_type": "markdown",
      "metadata": {
        "id": "xt5P3woj1b84",
        "colab_type": "text"
      },
      "source": [
        "After we get Φ, let's find the decryption key d using this formula: \n",
        "\n",
        "$d=e^{-1}$ mod $Φ$"
      ]
    },
    {
      "cell_type": "code",
      "metadata": {
        "id": "Zn3vEc4cYh0y",
        "colab_type": "code",
        "colab": {}
      },
      "source": [
        "d=(gmpy2.invert(e, PHI))"
      ],
      "execution_count": 0,
      "outputs": []
    },
    {
      "cell_type": "markdown",
      "metadata": {
        "id": "fcDQrCebGAYH",
        "colab_type": "text"
      },
      "source": [
        "### Decrypt the cipher\n",
        "The formula in order to decrypt it is: $message=q^d$ mod $n$"
      ]
    },
    {
      "cell_type": "code",
      "metadata": {
        "id": "Iyf-BWCmGAGE",
        "colab_type": "code",
        "outputId": "1f5a0cc3-5db7-48c0-8a4f-ddf11e98cb9f",
        "colab": {
          "base_uri": "https://localhost:8080/",
          "height": 34
        }
      },
      "source": [
        "message = pow(c, d, n)\n",
        "\n",
        "print ('the decrypted message is: ', message)"
      ],
      "execution_count": 0,
      "outputs": [
        {
          "output_type": "stream",
          "text": [
            "the decrypted message is:  1855\n"
          ],
          "name": "stdout"
        }
      ]
    },
    {
      "cell_type": "markdown",
      "metadata": {
        "id": "B2v3jgNeGwZD",
        "colab_type": "text"
      },
      "source": [
        "**Test**"
      ]
    },
    {
      "cell_type": "code",
      "metadata": {
        "id": "IUPSjVhoGr3j",
        "colab_type": "code",
        "outputId": "2f39f985-fcd8-413a-d9aa-2325a4ce51b0",
        "colab": {
          "base_uri": "https://localhost:8080/",
          "height": 34
        }
      },
      "source": [
        "if c == pow(message, e, n):\n",
        "  print ('RSA cracked!')\n",
        "else:\n",
        "  print ('Epic Fail!')"
      ],
      "execution_count": 0,
      "outputs": [
        {
          "output_type": "stream",
          "text": [
            "RSA cracked!\n"
          ],
          "name": "stdout"
        }
      ]
    },
    {
      "cell_type": "markdown",
      "metadata": {
        "id": "AUd8inqS1-6k",
        "colab_type": "text"
      },
      "source": [
        "### Further possible improvements\n",
        "\n",
        "\n",
        "\n",
        "*   Faster computation with GPU and CUDA\n",
        "*   Schor algorithm on a Quantum computer :)\n",
        "\n"
      ]
    }
  ]
}